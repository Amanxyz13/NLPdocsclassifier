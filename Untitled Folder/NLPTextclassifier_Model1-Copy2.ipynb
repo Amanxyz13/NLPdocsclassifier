{
 "cells": [
  {
   "cell_type": "code",
   "execution_count": 2,
   "id": "b49add43",
   "metadata": {},
   "outputs": [],
   "source": [
    "import pandas as pd\n",
    "from sklearn.datasets import load_files\n",
    "import numpy as np \n",
    "import re"
   ]
  },
  {
   "cell_type": "code",
   "execution_count": 3,
   "id": "d23dd984",
   "metadata": {},
   "outputs": [
    {
     "data": {
      "text/plain": [
       "['Pharmacy', 'Post', 'pre']"
      ]
     },
     "execution_count": 3,
     "metadata": {},
     "output_type": "execute_result"
    }
   ],
   "source": [
    "# loading the files from the folder into dataset\n",
    "dataset = load_files(container_path=r\"D:\\Jupyter notebook\\nlp data\\image_to_text\",encoding ='Windows-1252') \n",
    "dataset.target_names"
   ]
  },
  {
   "cell_type": "code",
   "execution_count": 4,
   "id": "ed6c223d",
   "metadata": {},
   "outputs": [
    {
     "data": {
      "text/plain": [
       "['Pharmacy', 'Post', 'pre']"
      ]
     },
     "execution_count": 4,
     "metadata": {},
     "output_type": "execute_result"
    }
   ],
   "source": [
    "#name of target values\n",
    "dataset.target_names"
   ]
  },
  {
   "cell_type": "code",
   "execution_count": 5,
   "id": "38da4978",
   "metadata": {},
   "outputs": [
    {
     "data": {
      "text/plain": [
       "138"
      ]
     },
     "execution_count": 5,
     "metadata": {},
     "output_type": "execute_result"
    }
   ],
   "source": [
    "#total dataset size\n",
    "dataset.filenames.shape[0]"
   ]
  },
  {
   "cell_type": "code",
   "execution_count": 6,
   "id": "f7110be5",
   "metadata": {},
   "outputs": [],
   "source": [
    "#loadng the value into dataframe\n",
    "data = np.c_[dataset.data, dataset.target]\n",
    "Doc_data= pd.DataFrame(data,columns=['Data','Target'])"
   ]
  },
  {
   "cell_type": "code",
   "execution_count": 7,
   "id": "b8a16326",
   "metadata": {},
   "outputs": [],
   "source": [
    "# Adding Target names to the dataframe\n",
    "new_data = {0:'Pharmacy',1:\"Post\",2:\"Pre\"}\n",
    "#converting srtr to int\n",
    "Doc_data['Target']= Doc_data['Target'].astype('int')\n",
    "Doc_data['Target_name']= Doc_data['Target'].map(new_data)"
   ]
  },
  {
   "cell_type": "code",
   "execution_count": 11,
   "id": "f19005f2",
   "metadata": {},
   "outputs": [],
   "source": [
    "#Doc_data['Data'].apply(lambda x:takeoutdirectory(x))"
   ]
  },
  {
   "cell_type": "code",
   "execution_count": 12,
   "id": "1044e6d1",
   "metadata": {},
   "outputs": [],
   "source": [
    "#Doc_data_copy_till_lower = Doc_data.copy(deep=True)"
   ]
  },
  {
   "cell_type": "code",
   "execution_count": 13,
   "id": "5f380640",
   "metadata": {},
   "outputs": [],
   "source": [
    "#Doc_data=Doc_data_copy"
   ]
  },
  {
   "cell_type": "code",
   "execution_count": 8,
   "id": "c8aa89cd",
   "metadata": {},
   "outputs": [],
   "source": [
    "def takeoutdirectory(x):\n",
    "    \n",
    "    import re\n",
    "    match = re.compile('D:.*')\n",
    "    z=re.sub(match,\" \",x)\n",
    "    #print(z,\"\\n\")\n",
    "    return z"
   ]
  },
  {
   "cell_type": "code",
   "execution_count": 9,
   "id": "13241dc6",
   "metadata": {},
   "outputs": [],
   "source": [
    "#Text preprocessing\n",
    "#removing local directory from the data\n",
    "Doc_data['Data']=Doc_data['Data'].apply(lambda x:takeoutdirectory(x))\n",
    "#converting the data in lower case\n",
    "Doc_data['Data']=Doc_data['Data'].apply(lambda x:x.lower())\n",
    "#removing /n,/r from the data\n",
    "Doc_data['Data']=Doc_data['Data'].apply(lambda x:(re.sub(\"\\n|\\r\",\" \",x)))\n",
    "#removing extra spaces\n",
    "Doc_data['Data']=Doc_data['Data'].apply(lambda x:(\" \".join(re.split(\"\\s+\", x, flags=re.UNICODE))))"
   ]
  },
  {
   "cell_type": "code",
   "execution_count": 20,
   "id": "664e3030",
   "metadata": {},
   "outputs": [
    {
     "data": {
      "text/plain": [
       "' this document was received in appeal po box 30432 or fax 801-938-2100, slc, ut-rmo west fax 05/18/2021 1150 united health group - west, central and cirrus rmo operated by firstsource solutions 1355 south 4700 west salt lake city, ut 84104 cones om ow re es ys fi|||_ a unitedhealth group company received via fax/ftp best copy available do not return to the rmo for rescan sarah &. cuswort jennifer a. meyer pe timothy c..philpatt, mp angela m. reining, mp jerrl l. stppet, w.h.n,p, marla fi. smith, w.h.n.p td ld i bp date: ol 13 od | to: fax number: ohman) gregins a from: cl timothy ¢. philpott, md. ci glenda rason, billing oangelam.reining,m.d, ci holly minor, billing | /cltennifer a. meyer, md. cilaurakolinset, rma osarah b. cusworth, md. cm] sherry daly, ma cl terri sippel, whnp - m danielle hutson, ma c1 marla. smith, whnp 1 stephanie pirk, cma , cl maria thompson, office mgr ct brbanne taylor [3 jamie zimmerman, lpn camper robertson 44 sandy baker, rn - cichristicia brown 4 cindy osborn, rn _ cianne jarrett - ct other phone number: (314) 432-3669 fax number (314) 432-3118 a total of 0 pages will be sent, including this cover page, _— piso rate nate ea etd bm i enatitimienlenned eta ram cu ena rh a seed ba coddolslslolala] 9 enn at rt ttt ttt net tt aaa 4 4 od a a irerererereeee ete 5 “eeeeeeeeeeeeaneneeneeeeeeeeneeeet mr annem: — 4 , a\" 4 . ————— ti | “ $e nha a pereira arn 1 . o8 2 wk se eta + + 4° . 3029 n, ballas road, suite 120 d, st, lauls, mo 63144 phone: 31 4—452-8669 | faxt 314-499-3112 | exchange: 314-991-3900 weheohe yr, | : w) unitedhealthcare ‘health plan (80840). 91 1-87726-04 | member | 9621 63952 | group number: 228222 hannah t longust™ ~ payer id 87726 a optumre rx bin: 610279. rx pcn: 9999 copays: . rx grp: uhealth prevcareqv: $0 . | _ unitedhealthcare choice plus 0501 - administered by united healthcare services, inc this fax was received by gf] faxmaker fax server, for more information, visit, https/awww.gficom cotn ne som ow rp es yc pd opp what | || plate: se r/e0 2 lea ay om he wray ud dl printed: o3/23/20 wuc | rhis card does not guarantee coverage. to ver nefi 1 provider, visit jot guaran tes or call. g verify benef s view claims, or find “or members: | myuhc.com 800-377-2543 f 3 i t ° f ; “or providers: uhcprovider.com 877-842-372 | viedical claims: po box 740800, atlanta ga 30374-0800 “a shared savinays imultipian inarmacy claims: optumrx po box 650540 dallas, tx 75265-0540 for pharmacists: 888-290-5416 this fax was received by gf] faxmaker fax server, for more information, visit, http:/awaw.gfiicom cotn ne som ow rp es yc vgnen\\'s co | ayomens (clare consultants — may 18, 2024 patient: hannah longust 6.0.8: 08/31/1995 to wham jt may concern: pd opp. whee | plate: sy r/a02 1 eae om eo weds wid sarah e. guswarth, mq, jannifer a. meyer, m.d, timothy gc, philpott, m.d. angela m. reining, m.d. terri l. sippel, w.hun.lp. marla r. smith, woh nlp pt has beer on lo loastrin for years and this medicine is no longer covered under plan. we are writing an appeal for coverage on the patient\\'s behalf, she has tried june! fe 1/20 and microgestin 1/20 fn past. pt states she has taken another generic birth control in past but cannot remember name. the junei and micragestin are the only other pills we have given her and have enclosed documentation on these, she is taking lo loestrin for birth control purposes, if you have any further questions, please call (314) 432-3669. sincerely, fa bi sandy baker, rn nurse of jennifer mayar, md 3023 n. ballas road, suite 120 0, st. louie, mo 63437 phare: g1 4a rigo | fax bd 43293718 | exchange: 314-991-3900 wee-obgyigom this fax was received by gf faxmaker fax server, for more information, visit, http:/awww.gfi.com cotn ne som ow rp es yc pe opp jro || plate: sy re0 21 thay om he wray ud dl longust, hannah | ace no:58663 | dob:08/31/1995 | dos:05/18/2021 page i of 1 veta pede toc n cee vvnnn coccenenevcvoonoeeeeneeecucoueeeeee econ ene malt dd eee ets si slr lll es ceca sds auite nner aaa pn wn nas mamta anaasea aastn aaa a aia if cp itr og longust, hannah ij , timathy g. phioett, mlb, aa ¥ old female, dob: 68/41/1999 “4yomen\\'s (pare angad m. aaining, m.d, = a9ag wisconsin ave, saint louis, mo, us 69118-1615 | tent! l. sippel, whhn.p. home: 618-406-965 oman conghi tants a a a io gk matia r. siaith, whale provider: meyer, jennifer a telephone encounter answered by reason message action taken a an ial malattie eh omith, marla r, dates og /ah/ aera. time: 11:30 am prior auth failed patient was on lo loestrin and had te switch to microgestin d/t lo loastrin not being covered. she didn\\'t do well on microgestin, she bad bth, ete. she was told by optum rx that she could obtain a prior auth. iiey pave her a fax # of 801-999-2100. can we please try to obtain a prior auth for lo lavestiam, tex smith,marla bf. 5/18/2024 11:32:33 am > osborn, rn,cindy 6/18/2024 11:40:46 am » pt has uhc, called and s/w kirk and itis ne longer covered under her medicine formulary. no pa needed. d/w pt who has been getting tt at excel phacm without any problems until this mth when she was told it was not covered by them anymore, i ealled excel and pt was onlly allowed 2 fills for $25, per pharmeist, she will have to change oc prescriptions b/c the lo loestrin is just not covered under her plan anymore. d/w pt and she wants us to write an appeal letter to her insurance company stating she has failed multiple oc\\'s and wants to remain on lo loestrin fe now. she will also be providing them with a letter. will need to fax letter with office notes to her insur now and pt is aware appeals process may take 2-4 wks, sandy, ifyou can send today. if not, i can do so tomorrow morning, pt is only taking for birth control and does not have any other medical issues. she has tried and failed \"at least 4 other oc\\'s before\" but she is not sure what they were other than mictagestin 1/40 fr. fax: borags-a1o0 wate need patient: longust, hannah, dob: 03/31/1995 provider; meyer, jennifer.a, 03/18/2021 note generated by aginigadvorks emr/pm solware (www. aciniga!works, com) file:///c/users/sbaker/appdata/local/temp/3tyaug18.htm 9/18/2021 this fax was received by gh faxmaker fax server, for more information, visit: http/avww.gfi.com cmoeorf owerenrnorv he wey wed dl longust, hannah | acc no:58663 | dob:08/31/1995 | d0s8:09/21/2020 page | of i tt oe eos ssl oe pu ben ll be ea ome ann peet een tee oe mm mmmm mtt ttt ppa aaa raima a chy oo wa ara — women s pan aaaaansaaaan aas aaa aden ans nss i ull sarah b, cuswerth, m0 longust, hannah danaiter a. mayar, m.b, thnathy c. phiipatt, wo, 25 ¥ old female, dob: 08/31/1995 angota m. reinisd, m0, 1323 nw evergreen ln, colaumbla, tl, u8 5 god 1495 amananonnmon ver lt caller mmr a sa alte home: 618-406-9644 dalla hh. seith, wlm provider: mever, jennifer a telephone encownter answered by reason message aation taken time: ogiaa pm bc generic approval pt preseribed microgestin refill in aug, per pt: “that med is on backorder at pharm, pharm said request to replace w/ generic denied.” pt has @ days of bc left, would like generic approval for microgestin sant to walgreens lafayette. phone#: 618-406-9654. wwe 12/09 : utson,dantelle 9/21/2020 4:45:68 pm > already spoke to pt about her medications, she is going to try the junel fe 1/20 and see if this helps araya aa nan ami ah a nsarm aan sanus ai aana a patent: longust, hannah dob: 08/31/1905 frovider; meyer, jenmifer. a. 09/21/2020 note generated by eghnicalvvorks emr/pm sofware (www. aclinicalvvorks. com) file:///c:/users/shaker/appdata/local/temp/22 1 xfmar htm 3/18/2021 this fax was received by gf faxmaker fax server, for more information, visit: http awww. gficom con es es m= ow re sb ys longust, hannah | ace no:58663 | dob:08/31/1995 | dos:12/01/2020 page | of 2 he wis vaid progress notes patient: longust, hannah . dob; 08/31/1995 age: 25y sex: female date: 12/01/2020 phone: 619-406-9654 pif addrags: 2923 wisconsin ave, saint louls, mq-631181645 pcp: jennifer a meyer hitt a a dura paar a ature daca waza eat aa tetra yr tns ys ony a dd haya wn rna aaa aana anaeasaarsanas se re le hd lad nnn aaas bhbbbabebebhbebebebebhhbeahidh ah chaiehhbabeeabbbbis aa de yi 7 subjective: chief complaints: 1. annual exam, hpt: mannan ts here for her wwe. she remains in a long term relationship. she is currently on microgestin fe 1/20, prior to this she was on lo loastrin, however, had to stop d/t cost, she is having side effects from micragestin, but desires to continua on it dt cost of lo laastrin. ros: see intake form, medical history: gyn history: menstruation lmp 11/17/2020, menapause no, hot flashes no hot flashes. last pap 11/26/19, normal. abnormal pap no. contraception ocp: microgestin. mammogram 2015, normal. abnormal mammogram never, breast self exam occasionally, colonscopy never, dexa never, std no. sexual relationship yes, single partner, ob history: gp gravida: 0. surgical history; tra 2000. family history: mother: unknown, diagnosed with no signifleant illness. father: unknown, no signiicant illness. siblings: unknown, no significant illness, none, social history: alcohot: yes, 4-5, orinks/week. marital status marital status boyfriend seatt. no brug ise . occupation: accountant @ deloitte. smoking status: nonsmoker. medications: taking microgestin fe 1/20 with iron 20 mcg-1 mg tablet 1 tab(s) orally once a day, notas: pt prefers bilsovi fe 1/20, but of to fll junet fe 1/20 allergies; n,kda, objective: vitals: bp 126/74, ht 65, we 135, bmi 22.46. examination: breast/gyn. exam. breasts no masses, skin changes, nipple discharge or adenopathy, implants bilaterally of normal texture, external genitaila: narmal, perineum unremarkable. vagina: normal. palvic support defacts: none detected, cervix no lesion, uterus: normnal siza, nantander, adnexa: no palpable abnormality, non tander, assessment: assessment: i. encounter for gynecological examination (general) (routine) without abnormal findings - 701.419 file:///c:/users/shalker/ appdata/local/temp/30cldgbp.htm 5/18/2021 this fax was received by gf faxmaker fax server, for more information, visit, https/awww.gfiicom cotn ne som ow rp es yc longust, hannah | ace no:58663 | dob:08/31/1995 | do$:12/01/2020 page 2 of 2 (primary) 2, encounter far screening sreast examination - 212.39 3, contracaptive management - 230.9 plan: 1. contraceptive management continue microgestin fe 1/20 tablet, with iron 20 meg-t mg, 1 tab(s), orally, once a day, 84 days, 84 tabiet, refills 3, notes: pt prefers blisovi fe 1/20, but ok to fill junel fe 1/20, preventive: counseling: annual pap smear every 2 years, annual braast/pelvie exams. breast self exam menthly discussed . | follow up: 1 year provider: marla smith, whnp patient: longust, hannah dob: 08/31/1995 date: 12/01/2020 electronically signed by marla smith on 05/18/2121 at 12:28 pm cdt sign off status: pendiig file:///c:/users/sbaker/appdata/local/temp/30cldgbp. htm 5/18/2021 he cotn ne som ow rp es yc pe opp. jane | plate: see tad am he wey wed dl longust, hannah | ace no:58663 | tx0b:08/31/1995 | dos8:04/06/2020 page 1 of | se ee ee ee ee re ce tot boc sui sl ut clo pl pe oh sree tars ste omen nnn et ttt tt lil lit ee ser sin ere ttt te peretey russes, ta wenaadaanaararaararaararaaaaraarannn aana aaa band aa thee ewereray sarah &, cugwarth, 4,0, longust, h ann ah iannitan a. mayer, m.d, timothy c, philpott, m., 44y old female, dob: 08/31/1995 ale: angora. taining, m0. 1323 nevergreen ln, columbia, ul, us 6a296-1105 we consultants —~ i, seo mine home 618-406-9664 «sme, wenalp, provider: mever, jemniper a telephone encounter answered by reach massage action taken retihs enurnenenenrnrnrnenenenenene ec i100 ularly mrss sme a eta al eg a a a kira bi bp ha ad dr tt robertson, amber date; o4/ 06/2020 time: 1:38 am rx marla called saying that pt is going to switeh to microgestrin fe 1/20. 28 day pack 90 days with 1 refill, hutson, danielle 4/6/2020 12:01:56 pm » erx sent stop lo loestrin fe tablet, biphasic 10 meg-i mg, orally, 1 tab(s), once a day eas microgestin fe 1/20 tablet, with tron 20 meg-1 mg, orally, 84 tablet, t tab(s), once a day, 84 dlays, refills=1 | patient: longust, hannah dob; o8/31/1995 provider: meyer, jennifer a 04/06/2020 aieta generaied by eclinigalworks emavpm software (www. aclinioalvorks. com) file:///c:/users/sbaker/appdata/local/temp/ev 1it410,htm 9/18/202) he con es es m= ow re sb ys prs er. wn kaee tot ipates a ae0 a tls ee am longust, hannah | ace no:58663 | dob:08/31/1995 | dos:11/26/2019 page | of 2 ae wilds vad progress notes ann nevepae’ enna provider: marla smith, whnp dob: 08/31/1995 age: 24y sex: female date: 11/26/2019 phone: 618-406-9654. addrage: 1323 n evergreen ln, columbia, il-62236-1105 pop: jennifer a meyer ivs 0 am rate am rrs sra rra a taa ra ratt svp a 9 pn aa aau dd dn aaa aana nm ra amar aaaaaaaaaaanaeaaa marana aaaaaraaaioan anu an ama dd rm ld mays subjective; chief complaints; 1, anriual exeqy, hpt: hannah is here for her wwe. she continues to do well on her ocp. she remains in a steady relationship, she has no gyn complaints, ros; see ltake form, madical history; gyn history: menstruation lmp 11/22/2019, lasts: 2 days . menopause no, hot flashes no hor flashes. last pap 8/15/2017, normal. abnormal pap no. contraception ocp: lo loastrin, marimogram never. abno;mal mammogram never. breast seif exar occasionally. colonscopy never. dexa never. sto no. sexual relationship no, o8 history: gp gravida; 0, surgical history: t&a 2000. hospitalization/ major diagnostic pracedura: denies past hospitalization. family history: mother: unknown, diagnosed with no significant lilnass. father: unknown, no significant fliness. siblings: unknown, no significant tiness. none. social history: alcohol: yes, 6, drinks/week. marital status single. no drug use . occupation: accountant @ deloitte. smoking status: nonsmoker, medications: taking lo loestrin fe biphasic 10 mcg-1 mg tablet 1 tab(s) orally once a day, medication list raviewed and reconciled with the patient allergies: n.k.d a, objective: vitals: bp 108/66, ht 65, wt 130, bmi 21.63. exanmiinatlar: braast/gyn eran: breasts no masses, skin changes, nipple discharge or adenopathy. external ganitatia: normal, perineum unremarkable, vagina: normal, palvic support defects: none detected. cervix fo lasion. wterus. normal size, nontender. adnexa: no palpable abnormality, non tender. assessment: assessment: i. encounter for gynecological examination (general) (routine) without abnormal findings - 701,419 (primary) file-///c:/users/shaker/appdata/local/temp/hbchbnfm. htm 5/18/2021 this fax was received by gf] faxmaker fax server. for nore information, visit: http /avww.gficom cotn ne som ow rp es yc longust, hannah | acc no:58663 | dob:08/31/1995 | dos:11/26/2019 page 2 of 2 2. encounter for sereaning breast axamination « 712.39 3, encounter for contraceptive management, unspecified - 730,9 plan: l. encounter for gynecological examination (general) (routine) without abnormal findings lab: -thinprep pap with imager normat baker, rn,sandy m 12/2/2019 2:12:00 pm >» smith,marla br 12/3/2019 8:59:27 am » | ** the results are normal/nagative, (sent via portal) 2, encounter for cantraceptive management, unspecified refill la loestrin fe tabtet, biphasic 10 meg-1 mg, £ tab(s), orally, onca a day, 84 dayfs), 84, refills 3 . preventives: lounseling: annual pap smear every 2 years, annual breast/pelvic exams. breast self exarn monthly . follow up: 1 year provider: marla smith, whnp pationt: longust, hannah dob: 08/31/1995 dake: 11/26/2019 electronically signed by maria thompson on 02/27/2820 at 09:39 am cst sign off status: comploted file://c:/users/sbaker/appdata/local/temp/hbchbnfm.him 3/18/2021 this fax was received by gf] faxmaker fax server, for more information, visit, attp/awww.gficom cotn ne som ow rp es yc '"
      ]
     },
     "execution_count": 20,
     "metadata": {},
     "output_type": "execute_result"
    }
   ],
   "source": [
    "Doc_data['Data'][2]"
   ]
  },
  {
   "cell_type": "code",
   "execution_count": null,
   "id": "af97856c",
   "metadata": {},
   "outputs": [],
   "source": [
    "#savin the dataframe\n",
    "#Doc_data.to_csv(r\"D:\\Jupyter notebook\\Doc_data.csv\")"
   ]
  },
  {
   "cell_type": "code",
   "execution_count": 10,
   "id": "d9e055d3",
   "metadata": {},
   "outputs": [
    {
     "data": {
      "text/html": [
       "<div>\n",
       "<style scoped>\n",
       "    .dataframe tbody tr th:only-of-type {\n",
       "        vertical-align: middle;\n",
       "    }\n",
       "\n",
       "    .dataframe tbody tr th {\n",
       "        vertical-align: top;\n",
       "    }\n",
       "\n",
       "    .dataframe thead th {\n",
       "        text-align: right;\n",
       "    }\n",
       "</style>\n",
       "<table border=\"1\" class=\"dataframe\">\n",
       "  <thead>\n",
       "    <tr style=\"text-align: right;\">\n",
       "      <th></th>\n",
       "      <th>Data</th>\n",
       "      <th>Target</th>\n",
       "      <th>Target_name</th>\n",
       "    </tr>\n",
       "  </thead>\n",
       "  <tbody>\n",
       "    <tr>\n",
       "      <th>0</th>\n",
       "      <td>this document was received in appeal po box 3...</td>\n",
       "      <td>0</td>\n",
       "      <td>Pharmacy</td>\n",
       "    </tr>\n",
       "    <tr>\n",
       "      <th>1</th>\n",
       "      <td>this document was received in appeal po box 3...</td>\n",
       "      <td>1</td>\n",
       "      <td>Post</td>\n",
       "    </tr>\n",
       "    <tr>\n",
       "      <th>2</th>\n",
       "      <td>this document was received in appeal po box 3...</td>\n",
       "      <td>0</td>\n",
       "      <td>Pharmacy</td>\n",
       "    </tr>\n",
       "    <tr>\n",
       "      <th>3</th>\n",
       "      <td>wn x00 avante o00x sourcehov, inc 4050 south ...</td>\n",
       "      <td>2</td>\n",
       "      <td>Pre</td>\n",
       "    </tr>\n",
       "    <tr>\n",
       "      <th>4</th>\n",
       "      <td>this document was received in appeal po box 3...</td>\n",
       "      <td>0</td>\n",
       "      <td>Pharmacy</td>\n",
       "    </tr>\n",
       "    <tr>\n",
       "      <th>...</th>\n",
       "      <td>...</td>\n",
       "      <td>...</td>\n",
       "      <td>...</td>\n",
       "    </tr>\n",
       "    <tr>\n",
       "      <th>133</th>\n",
       "      <td>this document was received in appeal po box 3...</td>\n",
       "      <td>0</td>\n",
       "      <td>Pharmacy</td>\n",
       "    </tr>\n",
       "    <tr>\n",
       "      <th>134</th>\n",
       "      <td>this document was received in appeal po box 3...</td>\n",
       "      <td>2</td>\n",
       "      <td>Pre</td>\n",
       "    </tr>\n",
       "    <tr>\n",
       "      <th>135</th>\n",
       "      <td>04/21/2021 0330 united health group - west, c...</td>\n",
       "      <td>1</td>\n",
       "      <td>Post</td>\n",
       "    </tr>\n",
       "    <tr>\n",
       "      <th>136</th>\n",
       "      <td>this document was received in appeal po box 3...</td>\n",
       "      <td>2</td>\n",
       "      <td>Pre</td>\n",
       "    </tr>\n",
       "    <tr>\n",
       "      <th>137</th>\n",
       "      <td>this document was received in appeal po box 3...</td>\n",
       "      <td>1</td>\n",
       "      <td>Post</td>\n",
       "    </tr>\n",
       "  </tbody>\n",
       "</table>\n",
       "<p>138 rows × 3 columns</p>\n",
       "</div>"
      ],
      "text/plain": [
       "                                                  Data  Target Target_name\n",
       "0     this document was received in appeal po box 3...       0    Pharmacy\n",
       "1     this document was received in appeal po box 3...       1        Post\n",
       "2     this document was received in appeal po box 3...       0    Pharmacy\n",
       "3     wn x00 avante o00x sourcehov, inc 4050 south ...       2         Pre\n",
       "4     this document was received in appeal po box 3...       0    Pharmacy\n",
       "..                                                 ...     ...         ...\n",
       "133   this document was received in appeal po box 3...       0    Pharmacy\n",
       "134   this document was received in appeal po box 3...       2         Pre\n",
       "135   04/21/2021 0330 united health group - west, c...       1        Post\n",
       "136   this document was received in appeal po box 3...       2         Pre\n",
       "137   this document was received in appeal po box 3...       1        Post\n",
       "\n",
       "[138 rows x 3 columns]"
      ]
     },
     "execution_count": 10,
     "metadata": {},
     "output_type": "execute_result"
    }
   ],
   "source": [
    "Doc_data"
   ]
  },
  {
   "cell_type": "code",
   "execution_count": 203,
   "id": "f8bfd4d0",
   "metadata": {},
   "outputs": [],
   "source": [
    "#import nltk\n",
    "#from nltk.corpus import stopwords\n",
    "#print(stopwords.words('english'))\n",
    "#nltk.download('stopwords')\n",
    "#from nltk.tokenize import word_tokenize\n",
    "#stop_words = set(stopwords.words('english'))\n",
    "#Doc_data['data_without_stopwords'] = Doc_data['Data'].apply(lambda x: ' '.join([word for word in x.split() if word not in (stop_words)]))"
   ]
  },
  {
   "cell_type": "code",
   "execution_count": 11,
   "id": "f5a43875",
   "metadata": {},
   "outputs": [],
   "source": [
    "import spacy\n",
    "from spacy.lang.en.stop_words import STOP_WORDS as stopwords\n",
    "#removing stopwords\n",
    "Doc_data['data_without_stopwords'] = Doc_data['Data'].apply(lambda x: ' '.join([word for word in x.split() if word not in (stopwords)]))\n",
    "#removing email address\n",
    "Doc_data['data_without_stopwords']=Doc_data['data_without_stopwords'].apply(lambda x:re.sub(r'([a-z0-9+._-]+@[a-z0-9+._-])',\" \", x))"
   ]
  },
  {
   "cell_type": "code",
   "execution_count": 20,
   "id": "69cf450e",
   "metadata": {},
   "outputs": [],
   "source": [
    "#conerting the Data to vectors and splitting into train/test\n",
    "from sklearn.feature_extraction.text import HashingVectorizer\n",
    "from sklearn.model_selection import train_test_split\n",
    "\n",
    "Vectorizer = HashingVectorizer(ngram_range=(1,2))\n",
    "X= Vectorizer.transform(Doc_data['data_without_stopwords'])\n",
    "y = Doc_data['Target']\n",
    "\n",
    "X_Train,X_Test,y_Train,y_Test = train_test_split(X,y,test_size=0.1)"
   ]
  },
  {
   "cell_type": "code",
   "execution_count": 22,
   "id": "28b362de",
   "metadata": {},
   "outputs": [],
   "source": [
    "from sklearn.feature_extraction.text import TfidfVectorizer\n",
    "from sklearn.model_selection import train_test_split\n",
    "tfidf_vectorizer = TfidfVectorizer(ngram_range=(1,2))\n",
    "X= tfidf_vectorizer.fit_transform(Doc_data['data_without_stopwords'])\n",
    "y = Doc_data['Target']\n",
    "\n",
    "X_Train,X_Test,y_Train,y_Test = train_test_split(X,y,test_size=0.1)"
   ]
  },
  {
   "cell_type": "code",
   "execution_count": 23,
   "id": "0464942a",
   "metadata": {},
   "outputs": [],
   "source": [
    "def Display_metrics(Test_y,pred):\n",
    "\n",
    "    from sklearn.metrics import ConfusionMatrixDisplay\n",
    "    from sklearn.metrics import confusion_matrix\n",
    "    from sklearn.metrics import precision_score, recall_score,accuracy_score\n",
    "    print(\"precision_score: \",precision_score(Test_y,pred,average=None))\n",
    "    print(\"recall_score:    \",recall_score(Test_y,pred,average=None))\n",
    "    print(\"model accuracy:  \",accuracy_score(Test_y,pred))\n",
    "    cm=(confusion_matrix(Test_y,pred))\n",
    "    disp = ConfusionMatrixDisplay(confusion_matrix=cm,display_labels=['Pharmacy','Post','Pre'])\n",
    "    disp.plot()"
   ]
  },
  {
   "cell_type": "code",
   "execution_count": 23,
   "id": "987d5b31",
   "metadata": {},
   "outputs": [],
   "source": [
    "X_Train,X_Test,y_Train,y_Test = train_test_split(X,y,test_size=0.1)"
   ]
  },
  {
   "cell_type": "code",
   "execution_count": 24,
   "id": "8bf2aa8d",
   "metadata": {},
   "outputs": [
    {
     "data": {
      "text/plain": [
       "2    6\n",
       "1    5\n",
       "0    3\n",
       "Name: Target, dtype: int64"
      ]
     },
     "execution_count": 24,
     "metadata": {},
     "output_type": "execute_result"
    }
   ],
   "source": [
    "y_Test.value_counts()"
   ]
  },
  {
   "cell_type": "code",
   "execution_count": 26,
   "id": "ff3fc1bd",
   "metadata": {},
   "outputs": [
    {
     "name": "stdout",
     "output_type": "stream",
     "text": [
      "precision_score:  [0.4 1.  0.8]\n",
      "recall_score:     [0.66666667 0.8        0.66666667]\n",
      "model accuracy:   0.7142857142857143\n"
     ]
    },
    {
     "data": {
      "image/png": "[encoded data removed]",
      "text/plain": [
       "<Figure size 432x288 with 2 Axes>"
      ]
     },
     "metadata": {
      "needs_background": "light"
     },
     "output_type": "display_data"
    }
   ],
   "source": [
    "from sklearn.ensemble import RandomForestClassifier\n",
    "\n",
    "rf = RandomForestClassifier(criterion='entropy',n_jobs=-1, n_estimators=1000,oob_score=True,)\n",
    "rf.fit(X_Train, y_Train)\n",
    "pred = rf.predict(X_Test)\n",
    "Display_metrics(y_Test,pred)"
   ]
  },
  {
   "cell_type": "code",
   "execution_count": 30,
   "id": "e30026f3",
   "metadata": {},
   "outputs": [],
   "source": [
    "X_dense= X.toarray()\n",
    "\n",
    "y= Doc_data['Target']\n",
    "Train_X,Test_X,Train_y,Test_y = train_test_split(X_dense,y,test_size=0.15)"
   ]
  },
  {
   "cell_type": "code",
   "execution_count": 32,
   "id": "3d066c86",
   "metadata": {},
   "outputs": [
    {
     "name": "stdout",
     "output_type": "stream",
     "text": [
      "precision_score:  [0.66666667 1.         0.52941176]\n",
      "recall_score:     [0.33333333 0.16666667 1.        ]\n",
      "model accuracy:   0.5714285714285714\n"
     ]
    },
    {
     "data": {
      "image/png": "[encoded data removed]",
      "text/plain": [
       "<Figure size 432x288 with 2 Axes>"
      ]
     },
     "metadata": {
      "needs_background": "light"
     },
     "output_type": "display_data"
    }
   ],
   "source": [
    "from sklearn.naive_bayes import GaussianNB\n",
    "model = GaussianNB()\n",
    "model.fit(Train_X,Train_y)\n",
    "pred= model.predict(Test_X)\n",
    "Display_metrics(Test_y,pred)"
   ]
  },
  {
   "cell_type": "code",
   "execution_count": 28,
   "id": "e2ba0872",
   "metadata": {},
   "outputs": [
    {
     "name": "stderr",
     "output_type": "stream",
     "text": [
      "C:\\Users\\amant\\anaconda3\\lib\\site-packages\\sklearn\\metrics\\_classification.py:1248: UndefinedMetricWarning: Precision is ill-defined and being set to 0.0 in labels with no predicted samples. Use `zero_division` parameter to control this behavior.\n",
      "  _warn_prf(average, modifier, msg_start, len(result))\n"
     ]
    },
    {
     "name": "stdout",
     "output_type": "stream",
     "text": [
      "precision_score:  [0.         0.         0.38461538]\n",
      "recall_score:     [0.         0.         0.83333333]\n",
      "model accuracy:   0.35714285714285715\n"
     ]
    },
    {
     "data": {
      "image/png": "[encoded data removed]",
      "text/plain": [
       "<Figure size 432x288 with 2 Axes>"
      ]
     },
     "metadata": {
      "needs_background": "light"
     },
     "output_type": "display_data"
    }
   ],
   "source": [
    "from sklearn.svm import SVC\n",
    "model = SVC()\n",
    "model.fit(X_Train,y_Train)\n",
    "pred= model.predict(X_Test)\n",
    "Display_metrics(y_Test,pred)\n"
   ]
  },
  {
   "cell_type": "code",
   "execution_count": 36,
   "id": "623ce60e",
   "metadata": {},
   "outputs": [
    {
     "name": "stderr",
     "output_type": "stream",
     "text": [
      "C:\\Users\\amant\\anaconda3\\lib\\site-packages\\sklearn\\linear_model\\_sag.py:328: ConvergenceWarning: The max_iter was reached which means the coef_ did not converge\n",
      "  warnings.warn(\"The max_iter was reached which means \"\n"
     ]
    },
    {
     "name": "stdout",
     "output_type": "stream",
     "text": [
      "precision_score:  [0.33333333 1.         0.55555556]\n",
      "recall_score:     [0.33333333 0.4        0.83333333]\n",
      "model accuracy:   0.5714285714285714\n"
     ]
    },
    {
     "data": {
      "image/png": "[encoded data removed]",
      "text/plain": [
       "<Figure size 432x288 with 2 Axes>"
      ]
     },
     "metadata": {
      "needs_background": "light"
     },
     "output_type": "display_data"
    }
   ],
   "source": [
    "from sklearn.linear_model import LogisticRegression\n",
    "model= LogisticRegression(penalty='l2',n_jobs=-1,solver='saga')\n",
    "model.fit(X_Train,y_Train)\n",
    "pred= model.predict(X_Test)\n",
    "Display_metrics(y_Test,pred)\n"
   ]
  },
  {
   "cell_type": "code",
   "execution_count": 1,
   "id": "e9625b4e",
   "metadata": {},
   "outputs": [],
   "source": [
    "parameters ={'max_depth': [10,30],\n",
    "     'criterion' : ['gini', 'entropy'],\n",
    "     'max_features': [0.3,0.5],\n",
    "     'min_samples_leaf': [5,10,15],\n",
    "     #'min_samples_split': [2,5,10],\n",
    "     'n_estimators': [600,900,1000]}"
   ]
  },
  {
   "cell_type": "code",
   "execution_count": null,
   "id": "00e3124a",
   "metadata": {},
   "outputs": [
    {
     "name": "stdout",
     "output_type": "stream",
     "text": [
      "Fitting 5 folds for each of 200 candidates, totalling 1000 fits\n"
     ]
    }
   ],
   "source": [
    "from sklearn.model_selection import RandomizedSearchCV\n",
    "random_search=RandomizedSearchCV(estimator = RandomForestClassifier(), param_distributions=parameters,verbose=1, n_jobs=-1,\n",
    "                            n_iter=200)\n",
    "random_result = random_search.fit(Train_X,Train_y)\n",
    "print('Best Score: ', random_result.best_score_*100)\n",
    "print('Best Params: ', random_result.best_params_)"
   ]
  },
  {
   "cell_type": "code",
   "execution_count": null,
   "id": "13b9cf77",
   "metadata": {},
   "outputs": [],
   "source": [
    "Doc"
   ]
  }
 ],
 "metadata": {
  "kernelspec": {
   "display_name": "Python 3",
   "language": "python",
   "name": "python3"
  },
  "language_info": {
   "codemirror_mode": {
    "name": "ipython",
    "version": 3
   },
   "file_extension": ".py",
   "mimetype": "text/x-python",
   "name": "python",
   "nbconvert_exporter": "python",
   "pygments_lexer": "ipython3",
   "version": "3.8.5"
  }
 },
 "nbformat": 4,
 "nbformat_minor": 5
}
