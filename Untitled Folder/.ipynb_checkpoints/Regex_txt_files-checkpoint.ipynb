{
 "cells": [
  {
   "cell_type": "code",
   "execution_count": 2,
   "id": "4122998e",
   "metadata": {},
   "outputs": [],
   "source": [
    "import re\n",
    "import os"
   ]
  },
  {
   "cell_type": "code",
   "execution_count": 140,
   "id": "d3f655b7",
   "metadata": {},
   "outputs": [],
   "source": [
    "def urgent_standard(path):\n",
    "#path = r\"C:\\Users\\amant\\OneDrive\\Desktop\\catch.txt\"\n",
    "    with open(path,'r') as f:\n",
    "        data=f.read()\n",
    "         #print(data)\n",
    "        regex = re.compile(r'\\burgen[a-z]*|\\bterminal illness|\\bsevere .[a-z]+\\s? pain|\\bsevere pain',re.I|re.A|re.M|re.S)\n",
    "        z=re.findall(regex,data)\n",
    "        if z:\n",
    "            return (\"filename :\", path.split(\"\\\\\")[-1][:-4]+\" :- Urgent \\n keyword found:\",z)\n",
    "            #print(\"keyword found :\",z)\n",
    "        else:\n",
    "            return(\"filename :\", path.split(\"\\\\\")[-1][:-4]+\" :- Standard \\n keyword found:\",z)"
   ]
  },
  {
   "cell_type": "code",
   "execution_count": 98,
   "id": "d6594924",
   "metadata": {},
   "outputs": [
    {
     "ename": "SyntaxError",
     "evalue": "invalid syntax (<ipython-input-98-9746c627f5e3>, line 1)",
     "output_type": "error",
     "traceback": [
      "\u001b[1;36m  File \u001b[1;32m\"<ipython-input-98-9746c627f5e3>\"\u001b[1;36m, line \u001b[1;32m1\u001b[0m\n\u001b[1;33m    \"\\burgent|\\burgen[a-z]|\\bdeath|\\bloss of limb|\\b\"gmia\u001b[0m\n\u001b[1;37m                                                     ^\u001b[0m\n\u001b[1;31mSyntaxError\u001b[0m\u001b[1;31m:\u001b[0m invalid syntax\n"
     ]
    }
   ],
   "source": [
    "\"\\burgent|\\burgen[a-z]|\\bdeath|\\bloss of limb|\\b\"gmia"
   ]
  },
  {
   "cell_type": "code",
   "execution_count": 138,
   "id": "077e4e8a",
   "metadata": {},
   "outputs": [
    {
     "name": "stdout",
     "output_type": "stream",
     "text": [
      "['9102036618462 (2).txt', '9102100671502.txt', '9102100771421.txt', '9102100771668.txt', '9102100771670.txt', '9102100816903.txt', '9102100816907.txt', '9102100816908.txt', '9102100816928.txt', '9102100816953.txt', '9102100816972.txt', '9102100817004.txt', '9102100817029.txt', '9102100817106.txt', '9102100817108.txt', '9102100817201.txt', '9102100817484.txt', '9102100817487.txt', '9102111217748.txt', '9102111217751 (1).txt', '9102111971109 (1).txt', '9102112416890 (1).txt', '9102112416898 (1).txt', '9102112422835.txt', '9102113420911.txt', '9102113719554.txt', '9102113720702.txt', '9102113819958.txt', '9102113870792.txt', '9102113918793.txt', '9102114018672.txt', '9102115216891.txt', '9102115317340.txt', '9102115470893.txt', '9102117216752.txt', '9102117221842.txt', '9102117271174.txt', '9102117272062.txt', '9102117318146.txt', '9102117320825.txt', '9102117417597.txt', '9102117418752.txt', '9102117440543.txt', '9102117923071.txt']\n",
      "['9102104968814.txt', '9102108317876.txt', '9102108318436.txt', '9102108318465.txt', '9102108318478.txt', '9102108318501.txt', '9102108318511.txt', '9102108318520.txt', '9102108318525.txt', '9102108318564.txt', '9102108367077.txt', '9102108371587.txt', '9102108371879.txt', '9102108417404.txt', '9102108470795.txt', '9102108470798.txt', '9102108918118.txt', '9102108918179.txt', '9102108969365.txt', '9102108972263.txt', '9102108973569.txt', '9102108974038.txt', '9102109021523.txt', '9102111118463 (1).txt', '9102111118520 (1).txt', '9102111173358 (1).txt', '9102111173363 (1).txt', '9102111217888 (1).txt', '9102111220320 (1).txt', '9102111867959 (1).txt', '9102113719853.txt', '9102113720566.txt', '9102115216552.txt', '9102115217364.txt', '9102115217509.txt', '9102115217686.txt', '9102115218048.txt']\n",
      "['9102036320105.txt', '9102036418369.txt', '9102036418741.txt', '9102036419471.txt', '9102036420216.txt', '9102036518086.txt', '9102036518097.txt', '9102036518196.txt', '9102100719058.txt', '9102100719069.txt', '9102100771669.txt', '9102100816865.txt', '9102100816869.txt', '9102100816954.txt', '9102100816972 (1).txt', '9102100816991.txt', '9102100817006.txt', '9102100817038.txt', '9102100817107.txt', '9102100817395.txt', '9102100817478.txt', '9102100817503.txt', '9102100817549.txt', '9102108318444.txt', '9102108318477.txt', '9102108318483.txt', '9102108318500.txt', '9102108318510.txt', '9102108318536.txt', '9102108318559.txt', '9102111870273 (1).txt', '9102111921262 (1).txt', '9102111971080 (1).txt', '9102112343994 (1).txt', '9102112416825 (1).txt', '9102112416826 (1).txt', '9102112416836 (1).txt', '9102113470487.txt', '9102113720681.txt', '9102113720731.txt', '9102113726019.txt', '9102113870936.txt', '9102113918705.txt', '9102115219172.txt', '9102115219457.txt', '9102115223153.txt', '9102115224151.txt', '9102117272308.txt', '9102117317776.txt', '9102117318342.txt', '9102117318343.txt', '9102117418172.txt', '9102117418967.txt', '9102117419251.txt', '9102117470318.txt', '9102117570307.txt', '9102118216504.txt']\n"
     ]
    }
   ],
   "source": [
    "path = \"D:\\Jupyter notebook\\image_to_text\"\n",
    "#path = \"src\"\n",
    "dir_list = os.listdir(path)\n",
    "for folders in dir_list:\n",
    "    files=os.path.join(path,folders)\n",
    "    print(os.listdir(files))"
   ]
  },
  {
   "cell_type": "code",
   "execution_count": 147,
   "id": "ab27be24",
   "metadata": {},
   "outputs": [
    {
     "name": "stdout",
     "output_type": "stream",
     "text": [
      "73.8 ms ± 6.06 ms per loop (mean ± std. dev. of 7 runs, 1 loop each)\n"
     ]
    }
   ],
   "source": [
    "%%timeit\n",
    "path = \"D:\\Jupyter notebook\\image_to_text\\Post\"\n",
    "for file in os.listdir(path):\n",
    "    filename = os.path.join(path,file)\n",
    "    z=urgent_standard(filename)\n",
    "    with open(\"D:\\Jupyter notebook\\post_output.txt\",'a') as f:\n",
    "        f.write(str(z))\n",
    "        f.write(\"\\n\")\n",
    "    "
   ]
  },
  {
   "cell_type": "code",
   "execution_count": null,
   "id": "8996a799",
   "metadata": {},
   "outputs": [],
   "source": []
  }
 ],
 "metadata": {
  "kernelspec": {
   "display_name": "Python 3",
   "language": "python",
   "name": "python3"
  },
  "language_info": {
   "codemirror_mode": {
    "name": "ipython",
    "version": 3
   },
   "file_extension": ".py",
   "mimetype": "text/x-python",
   "name": "python",
   "nbconvert_exporter": "python",
   "pygments_lexer": "ipython3",
   "version": "3.8.5"
  }
 },
 "nbformat": 4,
 "nbformat_minor": 5
}
