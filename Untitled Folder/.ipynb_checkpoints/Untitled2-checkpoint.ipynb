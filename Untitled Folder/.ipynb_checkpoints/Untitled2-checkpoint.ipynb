{
 "cells": [
  {
   "cell_type": "code",
   "execution_count": 8,
   "id": "4daa1146",
   "metadata": {},
   "outputs": [
    {
     "name": "stdout",
     "output_type": "stream",
     "text": [
      "Processing: D:\\Jupyter notebook\\azure ocr\\/9102108318465_0.jpg\n",
      "Processing: D:\\Jupyter notebook\\azure ocr\\/9102108318465_1.jpg\n",
      "Processing: D:\\Jupyter notebook\\azure ocr\\/9102108318465_2.jpg\n",
      "Processing: D:\\Jupyter notebook\\azure ocr\\/9102108318465_3.jpg\n",
      "Processing: D:\\Jupyter notebook\\azure ocr\\/9102108318465_4.jpg\n",
      "Processing: D:\\Jupyter notebook\\azure ocr\\/9102108318465_5.jpg\n",
      "Processing: D:\\Jupyter notebook\\azure ocr\\/9102108318465_6.jpg\n",
      "Processing: D:\\Jupyter notebook\\azure ocr\\/9102108318465_7.jpg\n"
     ]
    },
    {
     "ename": "TypeError",
     "evalue": "write() argument must be str, not dict",
     "output_type": "error",
     "traceback": [
      "\u001b[1;31m---------------------------------------------------------------------------\u001b[0m",
      "\u001b[1;31mTypeError\u001b[0m                                 Traceback (most recent call last)",
      "\u001b[1;32m<ipython-input-8-63cd4c5c0411>\u001b[0m in \u001b[0;36m<module>\u001b[1;34m\u001b[0m\n\u001b[0;32m     43\u001b[0m \u001b[1;33m\u001b[0m\u001b[0m\n\u001b[0;32m     44\u001b[0m \u001b[1;32mif\u001b[0m \u001b[0m__name__\u001b[0m \u001b[1;33m==\u001b[0m \u001b[1;34m'__main__'\u001b[0m\u001b[1;33m:\u001b[0m\u001b[1;33m\u001b[0m\u001b[1;33m\u001b[0m\u001b[0m\n\u001b[1;32m---> 45\u001b[1;33m     \u001b[0mhandler\u001b[0m\u001b[1;33m(\u001b[0m\u001b[1;33m)\u001b[0m\u001b[1;33m\u001b[0m\u001b[1;33m\u001b[0m\u001b[0m\n\u001b[0m",
      "\u001b[1;32m<ipython-input-8-63cd4c5c0411>\u001b[0m in \u001b[0;36mhandler\u001b[1;34m()\u001b[0m\n\u001b[0;32m     16\u001b[0m             \u001b[1;31m#text += parse_text(results)\u001b[0m\u001b[1;33m\u001b[0m\u001b[1;33m\u001b[0m\u001b[1;33m\u001b[0m\u001b[0m\n\u001b[0;32m     17\u001b[0m \u001b[1;33m\u001b[0m\u001b[0m\n\u001b[1;32m---> 18\u001b[1;33m     \u001b[0mopen\u001b[0m\u001b[1;33m(\u001b[0m\u001b[1;34m'output.txt'\u001b[0m\u001b[1;33m,\u001b[0m \u001b[1;34m'w'\u001b[0m\u001b[1;33m)\u001b[0m\u001b[1;33m.\u001b[0m\u001b[0mwrite\u001b[0m\u001b[1;33m(\u001b[0m\u001b[0mresults\u001b[0m\u001b[1;33m)\u001b[0m\u001b[1;33m\u001b[0m\u001b[1;33m\u001b[0m\u001b[0m\n\u001b[0m\u001b[0;32m     19\u001b[0m \u001b[1;33m\u001b[0m\u001b[0m\n\u001b[0;32m     20\u001b[0m \u001b[1;31m#def parse_text(results):\u001b[0m\u001b[1;33m\u001b[0m\u001b[1;33m\u001b[0m\u001b[1;33m\u001b[0m\u001b[0m\n",
      "\u001b[1;31mTypeError\u001b[0m: write() argument must be str, not dict"
     ]
    }
   ],
   "source": [
    "import os\n",
    "import json\n",
    "import requests\n",
    "\n",
    "API_KEY = '38d2215n1e3EmTzcf4EAjug9AiRepktrt1'\n",
    "ENDPOINT = 'https://eastus.api.cognitive.microsoft.com/vision/v3.2/read/analyze?language=en&readingOrder=basic&model-version=latest'\n",
    "DIR = 'D:\\\\Jupyter notebook\\\\azure ocr\\\\'\n",
    "#https://ocrazurewipro-123.cognitiveservices.azure.com/\n",
    "\n",
    "def handler():\n",
    "    text = ''\n",
    "    for filename in sorted(os.listdir(DIR)):\n",
    "        if filename.endswith(\".jpg\"): \n",
    "            pathToImage = '{0}/{1}'.format(DIR, filename)\n",
    "            results = get_text(pathToImage)\n",
    "            with open(\"D:\\Jupyter notebook\\azure_OCR.txt\",'a') as f:\n",
    "                f.write(results)\n",
    "            #text += parse_text(results)\n",
    "\n",
    "    open('output.txt', 'a').write(results)\n",
    "\n",
    "#def parse_text(results):\n",
    "    text = ''\n",
    "    for region in results['regions']:\n",
    "        for line in region['lines']:\n",
    "            for word in line['words']:\n",
    "                text += word['text'] + ' '\n",
    "            text += '\\n'\n",
    "    return text  \n",
    "\n",
    "def get_text(pathToImage):\n",
    "    print('Processing: ' + pathToImage)\n",
    "    headers  = {\n",
    "        'Ocp-Apim-Subscription-Key': API_KEY,\n",
    "        'Content-Type': 'application/octet-stream'\n",
    "    }\n",
    "    params   = {\n",
    "        'language': 'en',\n",
    "        'detectOrientation ': 'true'\n",
    "    }\n",
    "    payload = open(pathToImage, 'rb').read()\n",
    "    response = requests.post(ENDPOINT, headers=headers, params=params, data=payload)\n",
    "    results = json.loads(response.content)\n",
    "    return results\n",
    "\n",
    "if __name__ == '__main__':\n",
    "    handler()\n"
   ]
  },
  {
   "cell_type": "code",
   "execution_count": null,
   "id": "fe700e6b",
   "metadata": {},
   "outputs": [],
   "source": []
  }
 ],
 "metadata": {
  "kernelspec": {
   "display_name": "Python 3",
   "language": "python",
   "name": "python3"
  },
  "language_info": {
   "codemirror_mode": {
    "name": "ipython",
    "version": 3
   },
   "file_extension": ".py",
   "mimetype": "text/x-python",
   "name": "python",
   "nbconvert_exporter": "python",
   "pygments_lexer": "ipython3",
   "version": "3.8.5"
  }
 },
 "nbformat": 4,
 "nbformat_minor": 5
}
