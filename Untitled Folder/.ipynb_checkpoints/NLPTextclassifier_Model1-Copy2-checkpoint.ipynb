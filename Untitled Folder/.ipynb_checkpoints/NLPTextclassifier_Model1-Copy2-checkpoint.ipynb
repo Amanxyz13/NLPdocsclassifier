{
 "cells": [
  {
   "cell_type": "code",
   "execution_count": 2,
   "id": "b49add43",
   "metadata": {},
   "outputs": [],
   "source": [
    "import pandas as pd\n",
    "from sklearn.datasets import load_files\n",
    "import numpy as np \n",
    "import re"
   ]
  },
  {
   "cell_type": "code",
   "execution_count": 3,
   "id": "d23dd984",
   "metadata": {},
   "outputs": [
    {
     "data": {
      "text/plain": [
       "['Pharmacy', 'Post', 'pre']"
      ]
     },
     "execution_count": 3,
     "metadata": {},
     "output_type": "execute_result"
    }
   ],
   "source": [
    "# loading the files from the folder into dataset\n",
    "dataset = load_files(container_path=r\"D:\\Jupyter notebook\\nlp data\\image_to_text\",encoding ='Windows-1252') \n",
    "dataset.target_names"
   ]
  },
  {
   "cell_type": "code",
   "execution_count": 4,
   "id": "ed6c223d",
   "metadata": {},
   "outputs": [
    {
     "data": {
      "text/plain": [
       "['Pharmacy', 'Post', 'pre']"
      ]
     },
     "execution_count": 4,
     "metadata": {},
     "output_type": "execute_result"
    }
   ],
   "source": [
    "#name of target values\n",
    "dataset.target_names"
   ]
  },
  {
   "cell_type": "code",
   "execution_count": 5,
   "id": "38da4978",
   "metadata": {},
   "outputs": [
    {
     "data": {
      "text/plain": [
       "138"
      ]
     },
     "execution_count": 5,
     "metadata": {},
     "output_type": "execute_result"
    }
   ],
   "source": [
    "#total dataset size\n",
    "dataset.filenames.shape[0]"
   ]
  },
  {
   "cell_type": "code",
   "execution_count": 6,
   "id": "f7110be5",
   "metadata": {},
   "outputs": [],
   "source": [
    "#loadng the value into dataframe\n",
    "data = np.c_[dataset.data, dataset.target]\n",
    "Doc_data= pd.DataFrame(data,columns=['Data','Target'])"
   ]
  },
  {
   "cell_type": "code",
   "execution_count": 7,
   "id": "b8a16326",
   "metadata": {},
   "outputs": [],
   "source": [
    "# Adding Target names to the dataframe\n",
    "new_data = {0:'Pharmacy',1:\"Post\",2:\"Pre\"}\n",
    "#converting srtr to int\n",
    "Doc_data['Target']= Doc_data['Target'].astype('int')\n",
    "Doc_data['Target_name']= Doc_data['Target'].map(new_data)"
   ]
  },
  {
   "cell_type": "code",
   "execution_count": 11,
   "id": "f19005f2",
   "metadata": {},
   "outputs": [],
   "source": [
    "#Doc_data['Data'].apply(lambda x:takeoutdirectory(x))"
   ]
  },
  {
   "cell_type": "code",
   "execution_count": 12,
   "id": "1044e6d1",
   "metadata": {},
   "outputs": [],
   "source": [
    "#Doc_data_copy_till_lower = Doc_data.copy(deep=True)"
   ]
  },
  {
   "cell_type": "code",
   "execution_count": 13,
   "id": "5f380640",
   "metadata": {},
   "outputs": [],
   "source": [
    "#Doc_data=Doc_data_copy"
   ]
  },
  {
   "cell_type": "code",
   "execution_count": 8,
   "id": "c8aa89cd",
   "metadata": {},
   "outputs": [],
   "source": [
    "def takeoutdirectory(x):\n",
    "    \n",
    "    import re\n",
    "    match = re.compile('D:.*')\n",
    "    z=re.sub(match,\" \",x)\n",
    "    #print(z,\"\\n\")\n",
    "    return z"
   ]
  },
  {
   "cell_type": "code",
   "execution_count": 9,
   "id": "13241dc6",
   "metadata": {},
   "outputs": [],
   "source": [
    "#Text preprocessing\n",
    "#removing local directory from the data\n",
    "Doc_data['Data']=Doc_data['Data'].apply(lambda x:takeoutdirectory(x))\n",
    "#converting the data in lower case\n",
    "Doc_data['Data']=Doc_data['Data'].apply(lambda x:x.lower())\n",
    "#removing /n,/r from the data\n",
    "Doc_data['Data']=Doc_data['Data'].apply(lambda x:(re.sub(\"\\n|\\r\",\" \",x)))\n",
    "#removing extra spaces\n",
    "Doc_data['Data']=Doc_data['Data'].apply(lambda x:(\" \".join(re.split(\"\\s+\", x, flags=re.UNICODE))))"
   ]
  },
  {
   "cell_type": "code",
   "execution_count": 16,
   "id": "664e3030",
   "metadata": {},
   "outputs": [
    {
     "data": {
      "text/plain": [
       "' this document was received in appeal po box 31364 or fax 801-994-1082, slc, ut-rmo west fax 01/07/2021 1812 united health group - west, central and cirrus rmo operated by firstsource solutions 1355 south 4700 west salt lake city, ut 84104 aesommmmreanar eo ocr wv ok fi|||_ a unitedhealth group company received via fax/ftp best copy available do not return to the rmo for rescan to: company: fax: phone: from: fax: fhone: e-mail: notes: from: 6514148203 page: 1/5 date: 1/7/2021 8:12:27 pm soqoli9dalq82 +1 (336) 540-2854 fw: member appeal fax «1/7/2021 71:28:19 am mst unauthorized interception of this facsimile could be a violation of federal and state law. we are required to safeguard privileged, contidential and/or protected health information by applicable law. the information in this document is for the sole use of the person(s) or company named above. ff this you have received this fax in error, please contact us by phone immediately to arrangé for return of the documents, if you have difficulty with this transmission, please contact the number above. date and time of transmission: thursday, january 7, 2021 7:10:02 pm number of pages including this cover sheet: 05 this fax was received by gf! faxmaker fax server. for more inforrriation, visit: att: /awnaw.gfi com ome ar eo ocr wy co kh of 7) from: 6514148203 page: 2/5 date: 1/7/2021 8:12:27 pm from: no-replies@firstsource, com <no-replies@firstsaurce, com> sent: thursday, january of, 2024 1:29 pm ta: nascurgent - doyle, jim <nase urgent rxe@uh«cornns; psgteam @mfirstsource.com subject: member appeal fax -11/7/2021 13:28:19 am mst hi all, attached isthe dacument received in urgent member appeal fax line 3019941345 pie narnia» 20210107 412838 ol6o2.tlf regards, firstsource application development team this fax was received by gm faxmaker fax server. for more information, visit, http /avww.gfi.com smrenreteoornrwrocr fran: 6122625000 mage: 1/3 date: 1/7/2081 11:28:18 am fax allina health ¥% to: optumrx compary: fax: 801-994-1346 phone’ from: health information management him provider support department po box 1196, mr 20300 minneapolis, mn $5440 fax! 612-262-0444 phone: 612-262-0501 » for questions pertaining ta patient care, please contact the authoring provider at date and time of transmission: thursday, january 7, 2027 42:26:22 pm number of pages including this cover sheet: 03 this message ts intended only for the use of the individual or entity to which jt is addressed and may contain information that ts privilaged, confidential and aexampt from disclosure under applicable law. if you received this communication in error, notify the sender immediately and delete this message, if this information has been disclosed to you from records protected by federal confidentiality rules {42 cfr part 2), the federal rutes prohibit you fron making any further disclosure of this information unless furthor dischosure is expressly pormiltted by tha written covaort of the person ta whom it pertains or as otherwise permitted by 42 cfr part 2. a general authorization for the relaase of medical ar other information is not sufficient for this purpose, the federal rules restrict any use of the information to criminally investigate ar prosecute any alcohol or drug abuse patient. 16-223101 07/16 this fax was received by fi faxmaker fax server. for more information, visit: atte: /awww.gficom ome ar eo ocr wy co kh of from: 6514148203 page: 4/5 date: 1/7/2021 6:12:27 fm fon gi2lg29000 mage: 2/3 [pales 47772021 4152818 am allina health ¥% alina health united medical specialties clinic 225 smith ave n ste 300 saint paul mn 55102 651-241-5000 kristi r gray 35 north oaks rd north oaks mn 55127 dob: 09/10/1984 i optumrx (cio appeals coordinator 3515 harbor blvd. costa mesa, ca 92626 fax # for appeals: 801-994-1345 phone # for status check: 800-711-4555 pa id/ref #: pa-83299700 january 7, 2021 dear appeal manager, lam writing to request a review on the denial of synthroid 88 mcg tablet . according to your danial: the request for coverage for brand synthroid 88meg, use as directed, is denied. this decision is based on health plan criteria for brand synthroid. this medicine ig covered only if: all of the following: 1) your dector submits medical racords documenting that you have had an inadequate response, failed, or cannot use levothyroxine (ganeric synthroid) (date and duration of trial must be provided). 2) your doctor provides an explanation for how the requested medication will work for you if you have failed on the covered therapeutically equivalent product which has the same active ingredient (for example: you had an adverse reaction to an inactive ingredient in the alternative product). the information provided does not show that you meet the criteria listed above. patient has not tolerated use of levothyroxine, | recommend use of brand name synthroid again please reconsider coverage for this medication. if you have any further questions you can contact the prior authorization team at 612-262-4000 or fax your response to 612-262-4045, this fax was received by gfe faxmaker fax server. for more itfarmation, visit: http awww. aficom ome ar eo ocr wy co kh fon gi2lg29000 mage: 33 ipate: 4777/2021 41528:18 am sincerely, schoanver, chris m, md/tv o1/07/21 12:21 pm kristi gray page 2ote this fax was received by gf faxmaker fax server. for more information, visit: http: /awww. gficom smrenreteoornrwrocr '"
      ]
     },
     "execution_count": 16,
     "metadata": {},
     "output_type": "execute_result"
    }
   ],
   "source": [
    "Doc_data['Data'][0]"
   ]
  },
  {
   "cell_type": "code",
   "execution_count": null,
   "id": "af97856c",
   "metadata": {},
   "outputs": [],
   "source": [
    "#savin the dataframe\n",
    "#Doc_data.to_csv(r\"D:\\Jupyter notebook\\Doc_data.csv\")"
   ]
  },
  {
   "cell_type": "code",
   "execution_count": 10,
   "id": "d9e055d3",
   "metadata": {},
   "outputs": [
    {
     "data": {
      "text/html": [
       "<div>\n",
       "<style scoped>\n",
       "    .dataframe tbody tr th:only-of-type {\n",
       "        vertical-align: middle;\n",
       "    }\n",
       "\n",
       "    .dataframe tbody tr th {\n",
       "        vertical-align: top;\n",
       "    }\n",
       "\n",
       "    .dataframe thead th {\n",
       "        text-align: right;\n",
       "    }\n",
       "</style>\n",
       "<table border=\"1\" class=\"dataframe\">\n",
       "  <thead>\n",
       "    <tr style=\"text-align: right;\">\n",
       "      <th></th>\n",
       "      <th>Data</th>\n",
       "      <th>Target</th>\n",
       "      <th>Target_name</th>\n",
       "    </tr>\n",
       "  </thead>\n",
       "  <tbody>\n",
       "    <tr>\n",
       "      <th>0</th>\n",
       "      <td>this document was received in appeal po box 3...</td>\n",
       "      <td>0</td>\n",
       "      <td>Pharmacy</td>\n",
       "    </tr>\n",
       "    <tr>\n",
       "      <th>1</th>\n",
       "      <td>this document was received in appeal po box 3...</td>\n",
       "      <td>1</td>\n",
       "      <td>Post</td>\n",
       "    </tr>\n",
       "    <tr>\n",
       "      <th>2</th>\n",
       "      <td>this document was received in appeal po box 3...</td>\n",
       "      <td>0</td>\n",
       "      <td>Pharmacy</td>\n",
       "    </tr>\n",
       "    <tr>\n",
       "      <th>3</th>\n",
       "      <td>wn x00 avante o00x sourcehov, inc 4050 south ...</td>\n",
       "      <td>2</td>\n",
       "      <td>Pre</td>\n",
       "    </tr>\n",
       "    <tr>\n",
       "      <th>4</th>\n",
       "      <td>this document was received in appeal po box 3...</td>\n",
       "      <td>0</td>\n",
       "      <td>Pharmacy</td>\n",
       "    </tr>\n",
       "    <tr>\n",
       "      <th>...</th>\n",
       "      <td>...</td>\n",
       "      <td>...</td>\n",
       "      <td>...</td>\n",
       "    </tr>\n",
       "    <tr>\n",
       "      <th>133</th>\n",
       "      <td>this document was received in appeal po box 3...</td>\n",
       "      <td>0</td>\n",
       "      <td>Pharmacy</td>\n",
       "    </tr>\n",
       "    <tr>\n",
       "      <th>134</th>\n",
       "      <td>this document was received in appeal po box 3...</td>\n",
       "      <td>2</td>\n",
       "      <td>Pre</td>\n",
       "    </tr>\n",
       "    <tr>\n",
       "      <th>135</th>\n",
       "      <td>04/21/2021 0330 united health group - west, c...</td>\n",
       "      <td>1</td>\n",
       "      <td>Post</td>\n",
       "    </tr>\n",
       "    <tr>\n",
       "      <th>136</th>\n",
       "      <td>this document was received in appeal po box 3...</td>\n",
       "      <td>2</td>\n",
       "      <td>Pre</td>\n",
       "    </tr>\n",
       "    <tr>\n",
       "      <th>137</th>\n",
       "      <td>this document was received in appeal po box 3...</td>\n",
       "      <td>1</td>\n",
       "      <td>Post</td>\n",
       "    </tr>\n",
       "  </tbody>\n",
       "</table>\n",
       "<p>138 rows × 3 columns</p>\n",
       "</div>"
      ],
      "text/plain": [
       "                                                  Data  Target Target_name\n",
       "0     this document was received in appeal po box 3...       0    Pharmacy\n",
       "1     this document was received in appeal po box 3...       1        Post\n",
       "2     this document was received in appeal po box 3...       0    Pharmacy\n",
       "3     wn x00 avante o00x sourcehov, inc 4050 south ...       2         Pre\n",
       "4     this document was received in appeal po box 3...       0    Pharmacy\n",
       "..                                                 ...     ...         ...\n",
       "133   this document was received in appeal po box 3...       0    Pharmacy\n",
       "134   this document was received in appeal po box 3...       2         Pre\n",
       "135   04/21/2021 0330 united health group - west, c...       1        Post\n",
       "136   this document was received in appeal po box 3...       2         Pre\n",
       "137   this document was received in appeal po box 3...       1        Post\n",
       "\n",
       "[138 rows x 3 columns]"
      ]
     },
     "execution_count": 10,
     "metadata": {},
     "output_type": "execute_result"
    }
   ],
   "source": [
    "Doc_data"
   ]
  },
  {
   "cell_type": "code",
   "execution_count": 203,
   "id": "f8bfd4d0",
   "metadata": {},
   "outputs": [],
   "source": [
    "#import nltk\n",
    "#from nltk.corpus import stopwords\n",
    "#print(stopwords.words('english'))\n",
    "#nltk.download('stopwords')\n",
    "#from nltk.tokenize import word_tokenize\n",
    "#stop_words = set(stopwords.words('english'))"
   ]
  },
  {
   "cell_type": "code",
   "execution_count": 11,
   "id": "f5a43875",
   "metadata": {},
   "outputs": [],
   "source": [
    "import spacy\n",
    "from spacy.lang.en.stop_words import STOP_WORDS as stopwords\n",
    "#removing stopwords\n",
    "Doc_data['data_without_stopwords'] = Doc_data['Data'].apply(lambda x: ' '.join([word for word in x.split() if word not in (stopwords)]))\n",
    "#removing email address\n",
    "Doc_data['data_without_stopwords']=Doc_data['data_without_stopwords'].apply(lambda x:re.sub(r'([a-z0-9+._-]+@[a-z0-9+._-])',\" \", x))"
   ]
  },
  {
   "cell_type": "code",
   "execution_count": 20,
   "id": "69cf450e",
   "metadata": {},
   "outputs": [],
   "source": [
    "#conerting the Data to vectors and splitting into train/test\n",
    "from sklearn.feature_extraction.text import HashingVectorizer\n",
    "from sklearn.model_selection import train_test_split\n",
    "\n",
    "Vectorizer = HashingVectorizer(ngram_range=(1,2))\n",
    "X= Vectorizer.transform(Doc_data['data_without_stopwords'])\n",
    "y = Doc_data['Target']\n",
    "\n",
    "X_Train,X_Test,y_Train,y_Test = train_test_split(X,y,test_size=0.1)"
   ]
  },
  {
   "cell_type": "code",
   "execution_count": null,
   "id": "e1fef350",
   "metadata": {},
   "outputs": [],
   "source": []
  },
  {
   "cell_type": "code",
   "execution_count": 12,
   "id": "0464942a",
   "metadata": {},
   "outputs": [],
   "source": [
    "\n",
    "def Display_metrics(Test_y,pred):\n",
    "\n",
    "    from sklearn.metrics import ConfusionMatrixDisplay\n",
    "    from sklearn.metrics import confusion_matrix\n",
    "    from sklearn.metrics import precision_score, recall_score,accuracy_score\n",
    "    print(\"precision_score: \",precision_score(Test_y,pred,average=None))\n",
    "    print(\"recall_score:    \",recall_score(Test_y,pred,average=None))\n",
    "    print(\"model accuracy:  \",accuracy_score(Test_y,pred))\n",
    "    cm=(confusion_matrix(Test_y,pred))\n",
    "    disp = ConfusionMatrixDisplay(confusion_matrix=cm,display_labels=['Pharmacy','Post','Pre'])\n",
    "    disp.plot()"
   ]
  },
  {
   "cell_type": "code",
   "execution_count": 23,
   "id": "987d5b31",
   "metadata": {},
   "outputs": [],
   "source": [
    "X_Train,X_Test,y_Train,y_Test = train_test_split(X,y,test_size=0.1)"
   ]
  },
  {
   "cell_type": "code",
   "execution_count": 25,
   "id": "8bf2aa8d",
   "metadata": {},
   "outputs": [
    {
     "data": {
      "text/plain": [
       "2    6\n",
       "1    5\n",
       "0    3\n",
       "Name: Target, dtype: int64"
      ]
     },
     "execution_count": 25,
     "metadata": {},
     "output_type": "execute_result"
    }
   ],
   "source": [
    "y_Test.value_counts()"
   ]
  },
  {
   "cell_type": "code",
   "execution_count": 26,
   "id": "ff3fc1bd",
   "metadata": {},
   "outputs": [
    {
     "name": "stdout",
     "output_type": "stream",
     "text": [
      "precision_score:  [0.5        1.         0.71428571]\n",
      "recall_score:     [0.66666667 0.6        0.83333333]\n",
      "model accuracy:   0.7142857142857143\n"
     ]
    },
    {
     "data": {
      "image/png": "[encoded data removed]",
      "text/plain": [
       "<Figure size 432x288 with 2 Axes>"
      ]
     },
     "metadata": {
      "needs_background": "light"
     },
     "output_type": "display_data"
    }
   ],
   "source": [
    "from sklearn.ensemble import RandomForestClassifier\n",
    "\n",
    "rf = RandomForestClassifier(n_jobs=-1, n_estimators=600,oob_score=True,)\n",
    "rf.fit(X_Train, y_Train)\n",
    "pred = rf.predict(X_Test)\n",
    "Display_metrics(y_Test,pred)"
   ]
  },
  {
   "cell_type": "code",
   "execution_count": 85,
   "id": "e30026f3",
   "metadata": {},
   "outputs": [],
   "source": [
    "X_dense= X.toarray()\n",
    "\n",
    "y= Doc_data['Target']\n",
    "Train_X,Test_X,Train_y,Test_y = train_test_split(X_dense,y,test_size=0.15)"
   ]
  },
  {
   "cell_type": "code",
   "execution_count": 86,
   "id": "3d066c86",
   "metadata": {},
   "outputs": [
    {
     "name": "stdout",
     "output_type": "stream",
     "text": [
      "precision_score:  [1.         1.         0.47368421]\n",
      "recall_score:     [0.11111111 0.33333333 1.        ]\n",
      "model accuracy:   0.5238095238095238\n"
     ]
    },
    {
     "data": {
      "image/png": "[encoded data removed]",
      "text/plain": [
       "<Figure size 432x288 with 2 Axes>"
      ]
     },
     "metadata": {
      "needs_background": "light"
     },
     "output_type": "display_data"
    }
   ],
   "source": [
    "from sklearn.naive_bayes import GaussianNB\n",
    "model = GaussianNB()\n",
    "model.fit(Train_X,Train_y)\n",
    "pred= model.predict(Test_X)\n",
    "Display_metrics(Test_y,pred)"
   ]
  },
  {
   "cell_type": "code",
   "execution_count": 90,
   "id": "e2ba0872",
   "metadata": {},
   "outputs": [
    {
     "name": "stdout",
     "output_type": "stream",
     "text": [
      "precision_score:  [1.         0.66666667 0.53333333]\n",
      "recall_score:     [0.33333333 0.66666667 0.88888889]\n",
      "model accuracy:   0.6190476190476191\n"
     ]
    },
    {
     "data": {
      "image/png": "[encoded data removed]",
      "text/plain": [
       "<Figure size 432x288 with 2 Axes>"
      ]
     },
     "metadata": {
      "needs_background": "light"
     },
     "output_type": "display_data"
    }
   ],
   "source": [
    "from sklearn.svm import SVC\n",
    "model = SVC()\n",
    "model.fit(Train_X,Train_y)\n",
    "pred= model.predict(Test_X)\n",
    "Display_metrics(Test_y,pred)\n"
   ]
  },
  {
   "cell_type": "code",
   "execution_count": 1,
   "id": "e9625b4e",
   "metadata": {},
   "outputs": [],
   "source": [
    "parameters ={'max_depth': [10,30],\n",
    "     'criterion' : ['gini', 'entropy'],\n",
    "     'max_features': [0.3,0.5],\n",
    "     'min_samples_leaf': [5,10,15],\n",
    "     #'min_samples_split': [2,5,10],\n",
    "     'n_estimators': [600,900,1000]}"
   ]
  },
  {
   "cell_type": "code",
   "execution_count": null,
   "id": "00e3124a",
   "metadata": {},
   "outputs": [
    {
     "name": "stdout",
     "output_type": "stream",
     "text": [
      "Fitting 5 folds for each of 200 candidates, totalling 1000 fits\n"
     ]
    }
   ],
   "source": [
    "from sklearn.model_selection import RandomizedSearchCV\n",
    "random_search=RandomizedSearchCV(estimator = RandomForestClassifier(), param_distributions=parameters,verbose=1, n_jobs=-1,\n",
    "                            n_iter=200)\n",
    "random_result = random_search.fit(Train_X,Train_y)\n",
    "print('Best Score: ', random_result.best_score_*100)\n",
    "print('Best Params: ', random_result.best_params_)"
   ]
  },
  {
   "cell_type": "code",
   "execution_count": null,
   "id": "13b9cf77",
   "metadata": {},
   "outputs": [],
   "source": [
    "Doc"
   ]
  }
 ],
 "metadata": {
  "kernelspec": {
   "display_name": "Python 3",
   "language": "python",
   "name": "python3"
  },
  "language_info": {
   "codemirror_mode": {
    "name": "ipython",
    "version": 3
   },
   "file_extension": ".py",
   "mimetype": "text/x-python",
   "name": "python",
   "nbconvert_exporter": "python",
   "pygments_lexer": "ipython3",
   "version": "3.8.5"
  }
 },
 "nbformat": 4,
 "nbformat_minor": 5
}
