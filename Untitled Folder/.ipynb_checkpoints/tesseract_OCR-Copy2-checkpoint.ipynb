{
 "cells": [
  {
   "cell_type": "code",
   "execution_count": null,
   "id": "f0c987db",
   "metadata": {},
   "outputs": [],
   "source": [
    "#pip install pytesseract\n",
    "#pip install pdf2image"
   ]
  },
  {
   "cell_type": "code",
   "execution_count": 2,
   "id": "6b8d8a27",
   "metadata": {},
   "outputs": [],
   "source": [
    "import pytesseract\n",
    "pytesseract.pytesseract.tesseract_cmd =r\"C:\\Program Files\\Tesseract-OCR\\tesseract.exe\"\n",
    "import cv2\n",
    "import pdf2image\n",
    "import os\n",
    "from pdf2image import convert_from_path"
   ]
  },
  {
   "cell_type": "code",
   "execution_count": 3,
   "id": "0842c9e1",
   "metadata": {},
   "outputs": [],
   "source": [
    "\n",
    "def convert_to_text(image):\n",
    "    os.chdir(text_path)\n",
    "    text = pytesseract.image_to_string(image)\n",
    "    os.chdir(text_path)\n",
    "    filename=os.path.join(text_path+name+\".txt\")\n",
    "    print(\"inside function\")\n",
    "    with open(filename,'a') as f:\n",
    "            f.write(entry.path)\n",
    "            f.write(text)\n",
    "    return"
   ]
  },
  {
   "cell_type": "code",
   "execution_count": null,
   "id": "e6f0ab8b",
   "metadata": {},
   "outputs": [],
   "source": [
    "import os\n",
    "import time\n",
    "start = time.time()\n",
    "text_path =\"D:\\\\Jupyter notebook\\\\image_to_text\\\\\"\n",
    "pdfpath = \"D:\\\\Jupyter notebook\\\\pdf\"\n",
    "imagepath=\"D:\\\\Jupyter notebook\\pdf2img\\\\\"\n",
    "try:\n",
    "    for root, dirs, files in os.walk(pdfpath, topdown=False):\n",
    "        for name in files:\n",
    "            path = (os.path.join(root, name))\n",
    "            title=(path.split(\"\\\\\")[-1][:-4])\n",
    "            print(path)\n",
    "            print(title)\n",
    "            pages =convert_from_path(path, 500,poppler_path=r\"C:\\Users\\amant\\poppler-0.68.0\\bin\",fmt=\"jpg\")\n",
    "            print(type(pages))\n",
    "            for idx,page in enumerate(pages):\n",
    "            \n",
    "                #print(\"in the loop\")\n",
    "                convert_to_text(page)\n",
    "                print(type(page))\n",
    "                os.chdir(imagepath)\n",
    "                page.save(title+\"_\"+str(idx)+\"jpg\",'JPEG')\n",
    "                print(type(page))\n",
    "except: \n",
    "    pass\n",
    "\n",
    "        \n",
    "        \n",
    "        \n",
    "\n",
    "\n"
   ]
  },
  {
   "cell_type": "code",
   "execution_count": null,
   "id": "e97b91bd",
   "metadata": {},
   "outputs": [],
   "source": []
  },
  {
   "cell_type": "code",
   "execution_count": null,
   "id": "446b5c4e",
   "metadata": {},
   "outputs": [
    {
     "name": "stdout",
     "output_type": "stream",
     "text": [
      "inside function\n",
      "image saved\n",
      "inside function\n",
      "image saved\n",
      "inside function\n",
      "image saved\n",
      "inside function\n",
      "image saved\n",
      "inside function\n",
      "image saved\n",
      "inside function\n",
      "image saved\n",
      "inside function\n",
      "image saved\n"
     ]
    }
   ],
   "source": [
    "import time\n",
    "start = time.time()\n",
    "text_path =\"D:\\\\Jupyter notebook\\\\image_to_text\\\\pre\\\\\"\n",
    "pdfpath = \"D:\\Jupyter notebook\\pdf\\pre\"\n",
    "imagepath=\"D:\\Jupyter notebook\\pdf2img\\pre\"\n",
    "\n",
    "try:\n",
    "    \n",
    "    for entry in os.scandir(pdfpath):\n",
    "        name=(entry.path.split(\"\\\\\")[-1][:-4])\n",
    "        #print(name)\n",
    "        pages =convert_from_path(entry.path, 500,poppler_path=r\"C:\\Users\\amant\\poppler-0.68.0\\bin\",fmt=\"jpg\")\n",
    "        #print(type(pages))\n",
    "        for idx,page in enumerate(pages):\n",
    "            convert_to_text(page)\n",
    "            #print(type(page))\n",
    "\n",
    "            os.chdir(imagepath)\n",
    "            page.save(name+\"_\"+str(idx)+\".jpg\",'JPEG')\n",
    "            print(\"image saved\")\n",
    "except: \n",
    "    pass\n",
    "\n",
    "end = time.time()\n",
    "\n",
    "print(end-start)\n",
    "        \n",
    "        \n",
    "        \n",
    "\n",
    "\n"
   ]
  },
  {
   "cell_type": "code",
   "execution_count": null,
   "id": "f7904b4c",
   "metadata": {},
   "outputs": [],
   "source": [
    "from pdf2image import convert_from_path\n",
    "pages = convert_from_path(r\"C:\\Users\\amant\\OneDrive\\Desktop\\FLN use case\\data\\pre\\9102108318477.pdf\", 500,poppler_path=r\"C:\\Users\\amant\\poppler-0.68.0\\bin\")\n",
    "for idx,page in enumerate(pages):\n",
    "        page.save(r'D:\\Jupyter notebook\\pdf2img'+str(idx)+'.jpg', 'JPEG')\n",
    "        "
   ]
  },
  {
   "cell_type": "code",
   "execution_count": 11,
   "id": "124b737d",
   "metadata": {},
   "outputs": [
    {
     "name": "stdout",
     "output_type": "stream",
     "text": [
      "C:\\Users\\amant\\OneDrive\\Desktop\\\\Untitled.png\n"
     ]
    }
   ],
   "source": [
    "directory = r\"C:\\Users\\amant\\OneDrive\\Desktop\\\\\"\n",
    "for entry in os.scandir(directory):\n",
    "    if (entry.path.endswith(\".jpg\") or entry.path.endswith(\".png\")) and entry.is_file():\n",
    "        print(entry.path)\n",
    "        image = cv2.imread(entry.path,0)\n",
    "        #cv2.imshow(\"image\",image)\n",
    "        text=pytesseract.image_to_string(image)\n",
    "        with open(r\"D:\\Jupyter notebook\\text.txt\",'w') as f:\n",
    "            f.write(entry.path)\n",
    "            f.write(text)\n",
    "        "
   ]
  },
  {
   "cell_type": "code",
   "execution_count": 7,
   "id": "a830055a",
   "metadata": {},
   "outputs": [
    {
     "data": {
      "text/plain": [
       "10"
      ]
     },
     "execution_count": 7,
     "metadata": {},
     "output_type": "execute_result"
    }
   ],
   "source": [
    "\n"
   ]
  },
  {
   "cell_type": "code",
   "execution_count": 10,
   "id": "b73af85c",
   "metadata": {},
   "outputs": [
    {
     "data": {
      "text/plain": [
       "[3, 6, 8]"
      ]
     },
     "execution_count": 10,
     "metadata": {},
     "output_type": "execute_result"
    }
   ],
   "source": []
  },
  {
   "cell_type": "code",
   "execution_count": null,
   "id": "c34b9aaf",
   "metadata": {},
   "outputs": [],
   "source": []
  }
 ],
 "metadata": {
  "kernelspec": {
   "display_name": "Python 3",
   "language": "python",
   "name": "python3"
  },
  "language_info": {
   "codemirror_mode": {
    "name": "ipython",
    "version": 3
   },
   "file_extension": ".py",
   "mimetype": "text/x-python",
   "name": "python",
   "nbconvert_exporter": "python",
   "pygments_lexer": "ipython3",
   "version": "3.8.5"
  }
 },
 "nbformat": 4,
 "nbformat_minor": 5
}
