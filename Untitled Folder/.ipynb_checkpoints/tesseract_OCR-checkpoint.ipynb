{
 "cells": [
  {
   "cell_type": "code",
   "execution_count": null,
   "id": "f0c987db",
   "metadata": {},
   "outputs": [],
   "source": [
    "#pip install pytesseract\n",
    "#pip install pdf2image"
   ]
  },
  {
   "cell_type": "code",
   "execution_count": 1,
   "id": "6b8d8a27",
   "metadata": {},
   "outputs": [],
   "source": [
    "import pytesseract\n",
    "pytesseract.pytesseract.tesseract_cmd =r\"C:\\Program Files\\Tesseract-OCR\\tesseract.exe\"\n",
    "import cv2\n",
    "import pdf2image\n",
    "import os\n",
    "from pdf2image import convert_from_path"
   ]
  },
  {
   "cell_type": "code",
   "execution_count": 5,
   "id": "0842c9e1",
   "metadata": {},
   "outputs": [],
   "source": [
    "\n",
    "def convert_to_text(image):\n",
    "    os.chdir(text_path)\n",
    "    text = pytesseract.image_to_string(image)\n",
    "    os.chdir(text_path)\n",
    "    filename=os.path.join(text_path+name+\".txt\")\n",
    "    print(filename)\n",
    "    with open(filename,'a') as f:\n",
    "            f.write(entry.path)\n",
    "            f.write(text)\n",
    "    "
   ]
  },
  {
   "cell_type": "code",
   "execution_count": 6,
   "id": "446b5c4e",
   "metadata": {},
   "outputs": [
    {
     "name": "stdout",
     "output_type": "stream",
     "text": [
      "D:\\Jupyter notebook\\image_to_text\\9102111217748.txt\n",
      "<class 'PIL.JpegImagePlugin.JpegImageFile'>\n",
      "D:\\Jupyter notebook\\image_to_text\\9102111217748.txt\n",
      "<class 'PIL.JpegImagePlugin.JpegImageFile'>\n",
      "D:\\Jupyter notebook\\image_to_text\\9102111217748.txt\n",
      "<class 'PIL.JpegImagePlugin.JpegImageFile'>\n",
      "D:\\Jupyter notebook\\image_to_text\\9102111217748.txt\n",
      "<class 'PIL.JpegImagePlugin.JpegImageFile'>\n",
      "D:\\Jupyter notebook\\image_to_text\\9102111217751 (1).txt\n",
      "<class 'PIL.JpegImagePlugin.JpegImageFile'>\n",
      "D:\\Jupyter notebook\\image_to_text\\9102111217751 (1).txt\n",
      "<class 'PIL.JpegImagePlugin.JpegImageFile'>\n",
      "D:\\Jupyter notebook\\image_to_text\\9102111217751 (1).txt\n",
      "<class 'PIL.JpegImagePlugin.JpegImageFile'>\n",
      "D:\\Jupyter notebook\\image_to_text\\9102111217751 (1).txt\n",
      "<class 'PIL.JpegImagePlugin.JpegImageFile'>\n",
      "D:\\Jupyter notebook\\image_to_text\\9102111217751 (1).txt\n",
      "<class 'PIL.JpegImagePlugin.JpegImageFile'>\n",
      "D:\\Jupyter notebook\\image_to_text\\9102111217751 (1).txt\n",
      "<class 'PIL.JpegImagePlugin.JpegImageFile'>\n",
      "D:\\Jupyter notebook\\image_to_text\\9102111217751 (1).txt\n",
      "<class 'PIL.JpegImagePlugin.JpegImageFile'>\n",
      "D:\\Jupyter notebook\\image_to_text\\9102111217751 (1).txt\n",
      "<class 'PIL.JpegImagePlugin.JpegImageFile'>\n",
      "D:\\Jupyter notebook\\image_to_text\\9102111217751 (1).txt\n",
      "<class 'PIL.JpegImagePlugin.JpegImageFile'>\n",
      "D:\\Jupyter notebook\\image_to_text\\9102111971109 (1).txt\n",
      "<class 'PIL.JpegImagePlugin.JpegImageFile'>\n",
      "D:\\Jupyter notebook\\image_to_text\\9102111971109 (1).txt\n",
      "<class 'PIL.JpegImagePlugin.JpegImageFile'>\n",
      "D:\\Jupyter notebook\\image_to_text\\9102111971109 (1).txt\n",
      "<class 'PIL.JpegImagePlugin.JpegImageFile'>\n",
      "D:\\Jupyter notebook\\image_to_text\\9102111971109 (1).txt\n",
      "<class 'PIL.JpegImagePlugin.JpegImageFile'>\n",
      "D:\\Jupyter notebook\\image_to_text\\9102111971109 (1).txt\n",
      "<class 'PIL.JpegImagePlugin.JpegImageFile'>\n"
     ]
    }
   ],
   "source": [
    "%timeit\n",
    "text_path =\"D:\\\\Jupyter notebook\\\\image_to_text\\\\\"\n",
    "pdfpath = \"D:\\Jupyter notebook\\pdf\\Pharmacy\"\n",
    "imagepath=\"D:\\Jupyter notebook\\pdf2img\"\n",
    "try:\n",
    "    \n",
    "    for entry in os.scandir(pdfpath):\n",
    "        name=(entry.path.split(\"\\\\\")[-1][:-4])\n",
    "        #print(name)\n",
    "        pages =convert_from_path(entry.path, 500,poppler_path=r\"C:\\Users\\amant\\poppler-0.68.0\\bin\",fmt=\"jpg\")\n",
    "        #print(type(pages))\n",
    "        for idx,page in enumerate(pages):\n",
    "            convert_to_text(page)\n",
    "            print(type(page))\n",
    "\n",
    "            #os.chdir(imagepath)\n",
    "            #page.save(name+\"_\"+str(idx)+\"jpg\",'JPEG')\n",
    "            #print(type(page))\n",
    "except: \n",
    "    pass\n",
    "\n",
    "        \n",
    "        \n",
    "        \n",
    "        \n",
    "\n",
    "\n"
   ]
  },
  {
   "cell_type": "code",
   "execution_count": null,
   "id": "f7904b4c",
   "metadata": {},
   "outputs": [],
   "source": [
    "from pdf2image import convert_from_path\n",
    "pages = convert_from_path(r\"C:\\Users\\amant\\OneDrive\\Desktop\\FLN use case\\data\\pre\\9102108318477.pdf\", 500,poppler_path=r\"C:\\Users\\amant\\poppler-0.68.0\\bin\")\n",
    "for idx,page in enumerate(pages):\n",
    "        page.save(r'D:\\Jupyter notebook\\pdf2img'+str(idx)+'.jpg', 'JPEG')\n",
    "        "
   ]
  },
  {
   "cell_type": "code",
   "execution_count": null,
   "id": "77ad85e0",
   "metadata": {},
   "outputs": [],
   "source": [
    "import os\n",
    "\n",
    "directory = r\"D:\\Jupyter notebook\\pdf2img\"\n",
    "for entry in os.scandir(directory):\n",
    "    if (entry.path.endswith(\".jpg\")\n",
    "            or entry.path.endswith(\".png\")) and entry.is_file():\n",
    "        print(entry.path)"
   ]
  },
  {
   "cell_type": "code",
   "execution_count": null,
   "id": "218001ae",
   "metadata": {},
   "outputs": [],
   "source": [
    "for entry in (os.scandir(pdfpath)):\n",
    "    print(entry.path)\n"
   ]
  },
  {
   "cell_type": "code",
   "execution_count": null,
   "id": "124b737d",
   "metadata": {},
   "outputs": [],
   "source": [
    "directory = r\"D:\\Jupyter notebook\\pdf2img\"\n",
    "for entry in os.scandir(directory):\n",
    "    if (entry.path.endswith(\".jpg\") or entry.path.endswith(\".png\")) and entry.is_file():\n",
    "        print(entry.path)\n",
    "        image = cv2.imread(entry.path,0)\n",
    "        #cv2.imshow(\"image\",image)\n",
    "        text=pytesseract.image_to_string(image)\n",
    "        with open(r\"D:\\Jupyter notebook\\text.txt\",'a') as f:\n",
    "            f.write(entry.path)\n",
    "            f.write(text)\n",
    "        "
   ]
  }
 ],
 "metadata": {
  "kernelspec": {
   "display_name": "Python 3",
   "language": "python",
   "name": "python3"
  },
  "language_info": {
   "codemirror_mode": {
    "name": "ipython",
    "version": 3
   },
   "file_extension": ".py",
   "mimetype": "text/x-python",
   "name": "python",
   "nbconvert_exporter": "python",
   "pygments_lexer": "ipython3",
   "version": "3.8.5"
  }
 },
 "nbformat": 4,
 "nbformat_minor": 5
}
