{
 "cells": [
  {
   "cell_type": "code",
   "execution_count": 29,
   "id": "37f8a24a",
   "metadata": {},
   "outputs": [
    {
     "name": "stdout",
     "output_type": "stream",
     "text": [
      "['', '', 'Non Urgent', '']\n"
     ]
    }
   ],
   "source": [
    "import re \n",
    "import os\n",
    "\n",
    "path = r\"C:\\Users\\amant\\OneDrive\\Desktop\\catch.txt\"\n",
    "with open(path) as f:\n",
    "    data = f.read()\n",
    "    data = re.sub('\\n',\" \",data)\n",
    "    regex = re.compile('(non urgent)|urgent',re.I)\n",
    "    find = re.findall(regex,data)\n",
    "    #print(data)\n",
    "    print(find)"
   ]
  },
  {
   "cell_type": "code",
   "execution_count": 22,
   "id": "9563a54e",
   "metadata": {},
   "outputs": [
    {
     "data": {
      "text/plain": [
       "'severethis is a documrnt containg various Urgency keyword in furrer mulltilines like loss of limb and urgency Regex should be able to get all  the urgent  words like loss of limbs and loss of limb.  the way he planned the murder was so subtle that it almost look like suicide as the survival dependent on a drugs which causes  severe pain or Severe atomicity pain as the victim had a terminal illness which is life threatening SNF severe head pain urgent Non Urgent    severe pain parrelel proccesing  OCR  Model building  regex   \\\\bExpedite|\\\\bDeath|\\\\bSuicide|\\\\bLife Threatening|\\\\bLoss of Limb|\\\\bSurvival dependent upon|\\\\bAcute Inpatient Rehab|\\\\bLong term Acute Care|\\\\bSevere pain|\\\\bSevere pain  Skilled Nursing Facility (SNF)  pain Terminal illness  Urgent Â\\xa0Â\\xa0  '"
      ]
     },
     "execution_count": 22,
     "metadata": {},
     "output_type": "execute_result"
    }
   ],
   "source": [
    "data"
   ]
  },
  {
   "cell_type": "code",
   "execution_count": null,
   "id": "4740aec8",
   "metadata": {},
   "outputs": [],
   "source": []
  },
  {
   "cell_type": "code",
   "execution_count": null,
   "id": "6610274a",
   "metadata": {},
   "outputs": [],
   "source": []
  }
 ],
 "metadata": {
  "kernelspec": {
   "display_name": "Python 3",
   "language": "python",
   "name": "python3"
  },
  "language_info": {
   "codemirror_mode": {
    "name": "ipython",
    "version": 3
   },
   "file_extension": ".py",
   "mimetype": "text/x-python",
   "name": "python",
   "nbconvert_exporter": "python",
   "pygments_lexer": "ipython3",
   "version": "3.8.5"
  }
 },
 "nbformat": 4,
 "nbformat_minor": 5
}
