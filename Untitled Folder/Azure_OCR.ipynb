{
 "cells": [
  {
   "cell_type": "code",
   "execution_count": 47,
   "id": "e3faecaf",
   "metadata": {},
   "outputs": [
    {
     "name": "stdout",
     "output_type": "stream",
     "text": [
      "-2.472641944885254\n"
     ]
    }
   ],
   "source": [
    "import requests\n",
    "import sys\n",
    "import os\n",
    "import json\n",
    "import time\n",
    "\n",
    "subscription_key = \"2c7bd3e70f354d83897681fa090e218a\"\n",
    "vision_base_url = \"https://westcentralus.api.cognitive.microsoft.com/vision/v3.2/ocr?language=unk&detectOrientation=true&model-version=latest\"\n",
    "#ocr_url = vision_base_url + \"ocr\"\n",
    "\n",
    "def image_to_text(image_file):\n",
    "    image_data = open(image_file, \"rb\").read()\n",
    "    headers = {'Ocp-Apim-Subscription-Key': subscription_key,\n",
    "               'Content-Type': 'application/octet-stream'}\n",
    "    response = requests.post(vision_base_url, headers=headers, data=image_data)\n",
    "    response.raise_for_status()\n",
    "    analysis = response.json()\n",
    "    os.chdir(azs)\n",
    "    jsonfile=os.path.join(filename+'.json')\n",
    "    with open(jsonfile,'w') as f:\n",
    "        json.dump(analysis,f,indent=6)\n",
    "    end= time.time()\n",
    "    print(start-end)\n",
    "\n",
    "\n",
    "\n",
    "def ocr_text(image_file):\n",
    "    image_to_text(image_file)\n",
    "\n",
    "if __name__ == \"__main__\":\n",
    "    start = time.time()\n",
    "    DIR='D:\\\\Jupyter notebook\\\\azure ocr\\\\'\n",
    "    for filename in sorted(os.listdir(DIR)):\n",
    "        if filename.endswith(\".jpg\"):\n",
    "            image=os.path.join(DIR+filename)\n",
    "            print(image)\n",
    "            ocr_text(image)"
   ]
  },
  {
   "cell_type": "code",
   "execution_count": 43,
   "id": "bb1ba928",
   "metadata": {},
   "outputs": [],
   "source": [
    "azs=r\"D:\\Jupyter notebook\\azure json\\New folder\"\n",
    "azure_ocr=r\"D:\\Jupyter notebook\\azure ocr\\\\\"\n",
    "for filename in sorted(os.listdir(azs)):\n",
    "    file=(filename.split(\".\")[0])\n",
    "    json1=os.path.join(azs+\"\\\\\"+filename)\n",
    "    with open(json1) as f:\n",
    "        z=json.load(f)\n",
    "        ocr_results=parse_text(z)\n",
    "        os.chdir(azure_ocr)\n",
    "        azure_ocr_result=os.path.join(azure_ocr,file+\".txt\")\n",
    "        with open(azure_ocr_result,'a') as z:\n",
    "            z.write(ocr_results)\n",
    "    \n",
    "                           \n",
    "    "
   ]
  },
  {
   "cell_type": "code",
   "execution_count": 23,
   "id": "3bb9eee1",
   "metadata": {},
   "outputs": [],
   "source": [
    "\n",
    "def parse_text(json_result):\n",
    "    \n",
    "    text = ''\n",
    "    for region in z['regions']:\n",
    "        for line in region['lines']:\n",
    "            for word in line['words']:\n",
    "                text_1 += word['text'] + ' '\n",
    "            text_1 += '\\n'\n",
    "    return text_1 "
   ]
  },
  {
   "cell_type": "code",
   "execution_count": 41,
   "id": "351751ec",
   "metadata": {},
   "outputs": [
    {
     "ename": "NameError",
     "evalue": "name 'analysis' is not defined",
     "output_type": "error",
     "traceback": [
      "\u001b[1;31m---------------------------------------------------------------------------\u001b[0m",
      "\u001b[1;31mNameError\u001b[0m                                 Traceback (most recent call last)",
      "\u001b[1;32m<ipython-input-41-acc35cb7444c>\u001b[0m in \u001b[0;36m<module>\u001b[1;34m\u001b[0m\n\u001b[1;32m----> 1\u001b[1;33m \u001b[0manalysis\u001b[0m\u001b[1;33m\u001b[0m\u001b[1;33m\u001b[0m\u001b[0m\n\u001b[0m",
      "\u001b[1;31mNameError\u001b[0m: name 'analysis' is not defined"
     ]
    }
   ],
   "source": [
    "analysis"
   ]
  },
  {
   "cell_type": "code",
   "execution_count": null,
   "id": "6d1ddf83",
   "metadata": {},
   "outputs": [],
   "source": []
  },
  {
   "cell_type": "code",
   "execution_count": null,
   "id": "bc705fc7",
   "metadata": {},
   "outputs": [],
   "source": []
  }
 ],
 "metadata": {
  "kernelspec": {
   "display_name": "Python 3",
   "language": "python",
   "name": "python3"
  },
  "language_info": {
   "codemirror_mode": {
    "name": "ipython",
    "version": 3
   },
   "file_extension": ".py",
   "mimetype": "text/x-python",
   "name": "python",
   "nbconvert_exporter": "python",
   "pygments_lexer": "ipython3",
   "version": "3.8.5"
  }
 },
 "nbformat": 4,
 "nbformat_minor": 5
}
